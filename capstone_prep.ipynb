{
 "cells": [
  {
   "cell_type": "code",
   "execution_count": 1,
   "id": "35736f28",
   "metadata": {},
   "outputs": [
    {
     "name": "stdout",
     "output_type": "stream",
     "text": [
      "Index(['job_id', 'job_title', 'salary_usd', 'salary_currency',\n",
      "       'experience_level', 'employment_type', 'company_location',\n",
      "       'company_size', 'employee_residence', 'remote_ratio', 'required_skills',\n",
      "       'education_required', 'years_experience', 'industry', 'posting_date',\n",
      "       'application_deadline', 'job_description_length', 'benefits_score',\n",
      "       'company_name'],\n",
      "      dtype='object')\n"
     ]
    }
   ],
   "source": [
    "import pandas as pd\n",
    "import matplotlib.pyplot as plt\n",
    "import sqlite3\n",
    "\n",
    "df = pd.read_csv('C:/Users/whitn/Documents/JanuaryProject/SQLite_module_3/Project_Prep/ai_jobs_dataset.zip')\n",
    "\n",
    "print(df.columns)\n"
   ]
  },
  {
   "cell_type": "code",
   "execution_count": 29,
   "id": "7483db45",
   "metadata": {},
   "outputs": [
    {
     "name": "stdout",
     "output_type": "stream",
     "text": [
      "c:\\Users\\whitn\\Documents\\JanuaryProject\\SQLite_module_3\\Project_Prep\n"
     ]
    }
   ],
   "source": [
    "import os\n",
    "print(os.getcwd())  # Prints the current working directory\n"
   ]
  },
  {
   "cell_type": "code",
   "execution_count": 2,
   "id": "5c72d0dc",
   "metadata": {},
   "outputs": [
    {
     "name": "stdout",
     "output_type": "stream",
     "text": [
      "Index(['job_id', 'job_title', 'salary_usd', 'salary_currency',\n",
      "       'experience_level', 'employment_type', 'company_location',\n",
      "       'company_size', 'employee_residence', 'remote_ratio', 'required_skills',\n",
      "       'education_required', 'years_experience', 'industry', 'posting_date',\n",
      "       'application_deadline', 'job_description_length', 'benefits_score',\n",
      "       'company_name'],\n",
      "      dtype='object')\n"
     ]
    }
   ],
   "source": [
    "import pandas as pd\n",
    "import matplotlib.pyplot as plt\n",
    "import sqlite3\n",
    "\n",
    "df = pd.read_csv('ai_jobs_dataset.zip')\n",
    "\n",
    "print(df.columns)\n"
   ]
  },
  {
   "cell_type": "code",
   "execution_count": 14,
   "id": "931e5291",
   "metadata": {},
   "outputs": [
    {
     "name": "stdout",
     "output_type": "stream",
     "text": [
      "job_id                    0\n",
      "job_title                 0\n",
      "salary_usd                0\n",
      "salary_currency           0\n",
      "experience_level          0\n",
      "employment_type           0\n",
      "company_location          0\n",
      "company_size              0\n",
      "employee_residence        0\n",
      "remote_ratio              0\n",
      "required_skills           0\n",
      "education_required        0\n",
      "years_experience          0\n",
      "industry                  0\n",
      "posting_date              0\n",
      "application_deadline      0\n",
      "job_description_length    0\n",
      "benefits_score            0\n",
      "company_name              0\n",
      "dtype: int64\n"
     ]
    }
   ],
   "source": [
    "import pandas as pd\n",
    "import matplotlib.pyplot as plt\n",
    "import sqlite3\n",
    "\n",
    "df = pd.read_csv('ai_jobs_dataset.zip')\n",
    "\n",
    "print(df.isnull().sum())  # Count missing values per column\n"
   ]
  },
  {
   "cell_type": "code",
   "execution_count": 3,
   "id": "407f7ede",
   "metadata": {},
   "outputs": [
    {
     "name": "stdout",
     "output_type": "stream",
     "text": [
      "    job_id              job_title  salary_usd salary_currency  \\\n",
      "0  AI00001  AI Research Scientist       90376             USD   \n",
      "1  AI00002   AI Software Engineer       61895             USD   \n",
      "2  AI00003          AI Specialist      152626             USD   \n",
      "3  AI00004           NLP Engineer       80215             USD   \n",
      "4  AI00005          AI Consultant       54624             EUR   \n",
      "\n",
      "  experience_level employment_type company_location company_size  \\\n",
      "0               SE              CT            China            M   \n",
      "1               EN              CT           Canada            M   \n",
      "2               MI              FL      Switzerland            L   \n",
      "3               SE              FL            India            M   \n",
      "4               EN              PT           France            S   \n",
      "\n",
      "  employee_residence  remote_ratio  \\\n",
      "0              China            50   \n",
      "1            Ireland           100   \n",
      "2        South Korea             0   \n",
      "3              India            50   \n",
      "4          Singapore           100   \n",
      "\n",
      "                                   required_skills education_required  \\\n",
      "0         Tableau, PyTorch, Kubernetes, Linux, NLP           Bachelor   \n",
      "1  Deep Learning, AWS, Mathematics, Python, Docker             Master   \n",
      "2     Kubernetes, Deep Learning, Java, Hadoop, NLP          Associate   \n",
      "3                        Scala, SQL, Linux, Python                PhD   \n",
      "4                     MLOps, Java, Tableau, Python             Master   \n",
      "\n",
      "   years_experience    industry posting_date application_deadline  \\\n",
      "0                 9  Automotive   2024-10-18           2024-11-07   \n",
      "1                 1       Media   2024-11-20           2025-01-11   \n",
      "2                 2   Education   2025-03-18           2025-04-07   \n",
      "3                 7  Consulting   2024-12-23           2025-02-24   \n",
      "4                 0       Media   2025-04-15           2025-06-23   \n",
      "\n",
      "   job_description_length  benefits_score       company_name  \n",
      "0                    1076             5.9    Smart Analytics  \n",
      "1                    1268             5.2       TechCorp Inc  \n",
      "2                    1974             9.4    Autonomous Tech  \n",
      "3                    1345             8.6     Future Systems  \n",
      "4                    1989             6.6  Advanced Robotics  \n",
      "<class 'pandas.core.frame.DataFrame'>\n",
      "RangeIndex: 15000 entries, 0 to 14999\n",
      "Data columns (total 19 columns):\n",
      " #   Column                  Non-Null Count  Dtype  \n",
      "---  ------                  --------------  -----  \n",
      " 0   job_id                  15000 non-null  object \n",
      " 1   job_title               15000 non-null  object \n",
      " 2   salary_usd              15000 non-null  int64  \n",
      " 3   salary_currency         15000 non-null  object \n",
      " 4   experience_level        15000 non-null  object \n",
      " 5   employment_type         15000 non-null  object \n",
      " 6   company_location        15000 non-null  object \n",
      " 7   company_size            15000 non-null  object \n",
      " 8   employee_residence      15000 non-null  object \n",
      " 9   remote_ratio            15000 non-null  int64  \n",
      " 10  required_skills         15000 non-null  object \n",
      " 11  education_required      15000 non-null  object \n",
      " 12  years_experience        15000 non-null  int64  \n",
      " 13  industry                15000 non-null  object \n",
      " 14  posting_date            15000 non-null  object \n",
      " 15  application_deadline    15000 non-null  object \n",
      " 16  job_description_length  15000 non-null  int64  \n",
      " 17  benefits_score          15000 non-null  float64\n",
      " 18  company_name            15000 non-null  object \n",
      "dtypes: float64(1), int64(4), object(14)\n",
      "memory usage: 2.2+ MB\n",
      "None\n",
      "          salary_usd  remote_ratio  years_experience  job_description_length  \\\n",
      "count   15000.000000  15000.000000      15000.000000            15000.000000   \n",
      "mean   115348.965133     49.483333          6.253200             1503.314733   \n",
      "std     60260.940438     40.812712          5.545768              576.127083   \n",
      "min     32519.000000      0.000000          0.000000              500.000000   \n",
      "25%     70179.750000      0.000000          2.000000             1003.750000   \n",
      "50%     99705.000000     50.000000          5.000000             1512.000000   \n",
      "75%    146408.500000    100.000000         10.000000             2000.000000   \n",
      "max    399095.000000    100.000000         19.000000             2499.000000   \n",
      "\n",
      "       benefits_score  \n",
      "count    15000.000000  \n",
      "mean         7.504273  \n",
      "std          1.450870  \n",
      "min          5.000000  \n",
      "25%          6.200000  \n",
      "50%          7.500000  \n",
      "75%          8.800000  \n",
      "max         10.000000  \n"
     ]
    }
   ],
   "source": [
    "import pandas as pd\n",
    "import matplotlib.pyplot as plt\n",
    "import sqlite3\n",
    "\n",
    "df = pd.read_csv('ai_jobs_dataset.zip')\n",
    "\n",
    "print(df.head())  # View the first 5 rows\n",
    "print(df.info())  # Check column types and missing values\n",
    "print(df.describe())  # Get summary statistics\n"
   ]
  },
  {
   "cell_type": "code",
   "execution_count": 5,
   "id": "4488274c",
   "metadata": {},
   "outputs": [
    {
     "name": "stdout",
     "output_type": "stream",
     "text": [
      "c:\\Users\\whitn\\Documents\\JanuaryProject\\SQLite_module_3\\Project_Prep\n"
     ]
    }
   ],
   "source": [
    "import os\n",
    "print(os.getcwd())  # Prints the current working directory\n"
   ]
  },
  {
   "cell_type": "code",
   "execution_count": 9,
   "id": "a3e74de7",
   "metadata": {},
   "outputs": [
    {
     "name": "stdout",
     "output_type": "stream",
     "text": [
      "Index(['id', 'title', 'company', 'location', 'link', 'source', 'date_posted',\n",
      "       'work_type', 'employment_type', 'description'],\n",
      "      dtype='object')\n"
     ]
    }
   ],
   "source": [
    "import pandas as pd\n",
    "import matplotlib.pyplot as plt\n",
    "import sqlite3\n",
    "\n",
    "df = pd.read_csv(\"linkedin_data_jobs_dataset.zip\")\n",
    "\n",
    "print(df.columns)"
   ]
  },
  {
   "cell_type": "code",
   "execution_count": 10,
   "id": "4b2840d9",
   "metadata": {},
   "outputs": [
    {
     "name": "stdout",
     "output_type": "stream",
     "text": [
      "   id            title    company           location  \\\n",
      "0   1     Data Analyst       Meta       New York, NY   \n",
      "1   2     Data Analyst       Meta  San Francisco, CA   \n",
      "2   3     Data Analyst       Meta    Los Angeles, CA   \n",
      "3   4     Data Analyst       Meta     Washington, DC   \n",
      "4   5  Data Analyst II  Pinterest        Chicago, IL   \n",
      "\n",
      "                                                link    source date_posted  \\\n",
      "0  https://www.linkedin.com/jobs/view/data-analys...  LinkedIn  2025-04-14   \n",
      "1  https://www.linkedin.com/jobs/view/data-analys...  LinkedIn  2025-04-14   \n",
      "2  https://www.linkedin.com/jobs/view/data-analys...  LinkedIn  2025-04-14   \n",
      "3  https://www.linkedin.com/jobs/view/data-analys...  LinkedIn  2025-04-14   \n",
      "4  https://www.linkedin.com/jobs/view/data-analys...  LinkedIn  2025-04-16   \n",
      "\n",
      "   work_type  employment_type  \\\n",
      "0        NaN              NaN   \n",
      "1        NaN              NaN   \n",
      "2        NaN              NaN   \n",
      "3        NaN              NaN   \n",
      "4        NaN              NaN   \n",
      "\n",
      "                                         description  \n",
      "0  The Social Measurement team is a growing team ...  \n",
      "1  The Social Measurement team is a growing team ...  \n",
      "2  The Social Measurement team is a growing team ...  \n",
      "3  The Social Measurement team is a growing team ...  \n",
      "4  About Pinterest\\n\\nMillions of people around t...  \n",
      "<class 'pandas.core.frame.DataFrame'>\n",
      "RangeIndex: 618 entries, 0 to 617\n",
      "Data columns (total 10 columns):\n",
      " #   Column           Non-Null Count  Dtype  \n",
      "---  ------           --------------  -----  \n",
      " 0   id               618 non-null    int64  \n",
      " 1   title            618 non-null    object \n",
      " 2   company          618 non-null    object \n",
      " 3   location         618 non-null    object \n",
      " 4   link             618 non-null    object \n",
      " 5   source           618 non-null    object \n",
      " 6   date_posted      618 non-null    object \n",
      " 7   work_type        0 non-null      float64\n",
      " 8   employment_type  0 non-null      float64\n",
      " 9   description      614 non-null    object \n",
      "dtypes: float64(2), int64(1), object(7)\n",
      "memory usage: 48.4+ KB\n",
      "None\n",
      "                id  work_type  employment_type\n",
      "count   618.000000        0.0              0.0\n",
      "mean    761.836570        NaN              NaN\n",
      "std     465.114626        NaN              NaN\n",
      "min       1.000000        NaN              NaN\n",
      "25%     415.250000        NaN              NaN\n",
      "50%     672.500000        NaN              NaN\n",
      "75%    1229.750000        NaN              NaN\n",
      "max    1536.000000        NaN              NaN\n"
     ]
    }
   ],
   "source": [
    "import pandas as pd\n",
    "import matplotlib.pyplot as plt\n",
    "import sqlite3\n",
    "\n",
    "df = pd.read_csv(\"linkedin_data_jobs_dataset.zip\")\n",
    "\n",
    "print(df.head())  # View the first 5 rows\n",
    "print(df.info())  # Check column types and missing values\n",
    "print(df.describe())  # Get summary statistics"
   ]
  },
  {
   "cell_type": "code",
   "execution_count": 13,
   "id": "fe87efdc",
   "metadata": {},
   "outputs": [
    {
     "name": "stdout",
     "output_type": "stream",
     "text": [
      "id                   0\n",
      "title                0\n",
      "company              0\n",
      "location             0\n",
      "link                 0\n",
      "source               0\n",
      "date_posted          0\n",
      "work_type          618\n",
      "employment_type    618\n",
      "description          4\n",
      "dtype: int64\n"
     ]
    }
   ],
   "source": [
    "import pandas as pd\n",
    "import matplotlib.pyplot as plt\n",
    "import sqlite3\n",
    "\n",
    "df = pd.read_csv(\"linkedin_data_jobs_dataset.zip\")\n",
    "\n",
    "print(df.isnull().sum())  # Count missing values per column\n"
   ]
  }
 ],
 "metadata": {
  "kernelspec": {
   "display_name": "Python 3",
   "language": "python",
   "name": "python3"
  },
  "language_info": {
   "codemirror_mode": {
    "name": "ipython",
    "version": 3
   },
   "file_extension": ".py",
   "mimetype": "text/x-python",
   "name": "python",
   "nbconvert_exporter": "python",
   "pygments_lexer": "ipython3",
   "version": "3.13.3"
  }
 },
 "nbformat": 4,
 "nbformat_minor": 5
}
